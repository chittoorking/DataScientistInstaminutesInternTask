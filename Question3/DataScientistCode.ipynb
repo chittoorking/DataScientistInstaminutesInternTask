{
  "nbformat": 4,
  "nbformat_minor": 0,
  "metadata": {
    "colab": {
      "name": "DataScientistCode.ipynb",
      "provenance": [],
      "collapsed_sections": []
    },
    "kernelspec": {
      "name": "python3",
      "display_name": "Python 3"
    },
    "language_info": {
      "name": "python"
    },
    "accelerator": "GPU"
  },
  "cells": [
    {
      "cell_type": "code",
      "execution_count": 160,
      "metadata": {
        "colab": {
          "base_uri": "https://localhost:8080/"
        },
        "id": "jR5shsDdKw-b",
        "outputId": "21af364b-ecc9-4352-fafa-1af12c66131f"
      },
      "outputs": [
        {
          "output_type": "stream",
          "name": "stdout",
          "text": [
            "Drive already mounted at /content/drive; to attempt to forcibly remount, call drive.mount(\"/content/drive\", force_remount=True).\n"
          ]
        }
      ],
      "source": [
        "from google.colab import drive\n",
        "drive.mount('/content/drive')"
      ]
    },
    {
      "cell_type": "code",
      "source": [
        "#Change the path to the location where doc file is dwonloaded #uncomment and use below line if you run on google collab\n",
        "%cd /content/drive/MyDrive/DataScientist_Instaminutes"
      ],
      "metadata": {
        "colab": {
          "base_uri": "https://localhost:8080/"
        },
        "id": "YvEQrep9MWrr",
        "outputId": "c9ae2ee0-7e7c-4805-8175-6b79aaf2482d"
      },
      "execution_count": 161,
      "outputs": [
        {
          "output_type": "stream",
          "name": "stdout",
          "text": [
            "/content/drive/MyDrive/DataScientist_Instaminutes\n"
          ]
        }
      ]
    },
    {
      "cell_type": "code",
      "source": [
        "!pip install python-docx\n",
        "import docx"
      ],
      "metadata": {
        "colab": {
          "base_uri": "https://localhost:8080/"
        },
        "id": "-yvXKZuQMofd",
        "outputId": "e0304669-d1d3-44f7-b335-75a57bd8ce5c"
      },
      "execution_count": 162,
      "outputs": [
        {
          "output_type": "stream",
          "name": "stdout",
          "text": [
            "Requirement already satisfied: python-docx in /usr/local/lib/python3.7/dist-packages (0.8.11)\n",
            "Requirement already satisfied: lxml>=2.3.2 in /usr/local/lib/python3.7/dist-packages (from python-docx) (4.2.6)\n"
          ]
        }
      ]
    },
    {
      "cell_type": "code",
      "source": [
        "def getText(filename):\n",
        "    doc = docx.Document(filename)\n",
        "    fullText = []\n",
        "    for para in doc.paragraphs:\n",
        "        fullText.append(para.text)\n",
        "    return '\\n'.join(fullText)"
      ],
      "metadata": {
        "id": "7XB0dLMpa3Nj"
      },
      "execution_count": 163,
      "outputs": []
    },
    {
      "cell_type": "markdown",
      "source": [
        "The getText() function opens the Word document, loops over all the Paragraph objects in the paragraphs list, and then appends their text to the list in fullText. After the loop, the strings in fullText are joined together with newline characters"
      ],
      "metadata": {
        "id": "64PpdeQ4batv"
      }
    },
    {
      "cell_type": "code",
      "source": [
        "text = getText(\"/content/drive/MyDrive/DataScientist_Instaminutes/ML Input.docx\")"
      ],
      "metadata": {
        "id": "p8HfJ659bS5m"
      },
      "execution_count": 164,
      "outputs": []
    },
    {
      "cell_type": "code",
      "source": [
        "print(text)"
      ],
      "metadata": {
        "colab": {
          "base_uri": "https://localhost:8080/"
        },
        "id": "tMCErTOIcPaY",
        "outputId": "5e1b8860-adbf-45f8-8ed6-eb35b123b66d"
      },
      "execution_count": 165,
      "outputs": [
        {
          "output_type": "stream",
          "name": "stdout",
          "text": [
            "Yes Gauri tell me tell me something about you\n",
            " \n",
            "Okay ahh thank you for allowing me to introduce myself. My name is Gauri shirmali. I am from Udaipur Rajasthan. I'm doing computer science engineering from Geetanjali Institute of technical studies. I secured 9.2 c GPA in 10, standard 73.4 Cgp ahh percentage in 12 standard. And currently an engineering my aggregate score is 77 percentage. computer sciences is omnipresent that is it is present in every field and hence I have invested these last 3.5 almost years and a developing my software skills My technical skills include programming in Python, Java, C, c++, databases I am also familiar with web development, Kubernetes, Docker, Ansible, et cetera. So these all are my technical skills. And I’ve  also used this skills to build several projects, which include user management project and attendance management project. I've also participated in smart India hackathons of which ahh in one we also got to the finals. Ahh these are my technical skills, coming to my extracurricular activities I love to dance umm particularly semi classical dance. I also like to read write and paint have been the student editor of our colleges newsletter bits and bytes. And currently I am one of the cultural heads of our students club, So I've I have also participated in several donation camps several donation camps as I am a  a member of the Rotary Club Udaipur, I consider myself as a very focused person, I’ve  and I always work towards my goals and in a very efficient manner. I am a team player and very optimistic in tough times And lastly I would like to say that why not start the journey of my success by the success of joining TCS Thank you so much.\n",
            " \n",
            "Okay ahh What are the five specific point about Tcs which makes Tcs different from the other IT MNCs?\n",
            " \n",
            "Sure firstly sir ahh tcs is has a brand name, it is known it is a multinational company and it has a very good brand name and thus it would give me a good start for my career. Secondly, it has a work life balance. I have talked to many of my friends who are in Tcs and they say that Tcs gives a very good work life balance. So that is the second point. Third point is the colleagues there hardraw very futuristic in their skills. So there is a lot to learn from them. Fourthly, as Tcs is a multinational company, I would like to I would have the chance to even uhh go abroad and a meet a people of different nationalities. And lastly there as Tcs is has been in the industry for almost hundred and fifty years. So it gives me a sense of job security to some extent.\n",
            " \n",
            "Okay what are the ethical values Tcs have?\n",
            " \n",
            "sir like I said there is a work life balance and it a it it promotes like gender equality ,there is no like discrimination on the basis of that. And it so it's very good ethics overall.\n",
            " \n",
            "Okay okay Gauri nice talking to you , thankyou sir , and  I request kernel rathor sir to take next part of interview Right.\n",
            " \n",
            "Thankyou so much sir\n",
            " \n",
            "Good afternoon\n",
            " \n",
            "Good afternoon sir\n",
            " \n",
            "All prepare\n",
            " \n",
            "Yes sir\n",
            " \n",
            "Okay Tell us which other campus interviews Have you appeared for and what has been the results?\n",
            " \n",
            "So I have interviewed for darnet, which is an depor only and I got selected for it. I also interviewed for gateway industries. I was not selected in the interview I got to the interview part but was not selected So that's it. I've only given these interviews.\n",
            " \n",
            "Okay Have you analyzed Why you didn't get selected for gateway?\n",
            " \n",
            "Sir in gateway I might have not answered the technical questions very well as compared to the other candidates.\n",
            " \n",
            "Okay so how have you prepared for TCS interview now?\n",
            " \n",
            "Sir I have an enhanced my technical skills I have been preparing for the core subjects, and I've been doing coding almost every day So I think that I prepared quite well For Tcs.\n",
            " \n",
            "Okay ahhh umm  Gauri tell me what are your future plans?\n",
            " \n",
            "Sir my future plans sir if I join TCS or otherwise\n",
            " \n",
            "What are your future plans ?\n",
            " \n",
            "Sir I want to join a software company and a work for it. And I want to a learn as much ah like as much languages and as much skills as I can and I also want to achieve great success so that I'm satisfied with what I've learned\n",
            " \n",
            "Okay ah what do you think are the reasons for youngsters switching over jobs?\n",
            " \n",
            "Sir maybe it is job satisfaction because they enter a company without a a seeing the background of the company and then they later find out that the company was not suitable for them.\n",
            " \n",
            "Okay. That's for you, what are the three important things ah that ah one should consider before joining any organization as a fresher?\n",
            " \n",
            "So firstly the one should look if there is a lot to learn from the company, I mean, there should be a very steep like growing curve in the company. Secondly, they should be like the colleagues and everything should be very frank so that they help you in every way and thirdly  for me there should be a brand name so that there is a satisfaction that yes I have achieved a level and now I can go to the next level.\n",
            " \n",
            "Okay technically what gives you job satisfaction?\n",
            " \n",
            "Sir technically the latest I want to go with latest technical skills, like not obsolete technologies, but the latest technologies.\n",
            " \n",
            "So how does TCS fit into your requirement?\n",
            " \n",
            "Sir tcs changes with technologies according to the needs of the people of the or so there is not a there is no fixed technology that they use they use according to the clients which is very well.\n",
            " \n",
            "which are the major clients of TCS? Can you name three or four of them?\n",
            " \n",
            "I'm sorry sir but I'm not aware of the clients.\n",
            " \n",
            "Okay sure anything that you want to ask?\n",
            " \n",
            "Sir will I be able to like fit in the company? I mean what do you think?\n",
            " \n",
            "Will you be able to fit into the company?\n",
            " \n",
            "Yes sir\n",
            " \n",
            "Yeah, as per your own analysis, you said you're a good team player and what requirements you said for a good job in case you have those qualities I'm sure you will be able to fit into.\n",
            " \n",
            "Okay, sir, thank you any more suggestions for me?\n",
            " \n",
            "No nothing more adventure will finally give his remarks.\n",
            " \n",
            "Thank you so much sir.\n",
            " \n",
            "All the best right\n",
            " \n",
            "Gauri\n",
            " \n",
            "Yes sir\n",
            " \n",
            "What is your basically the aim you want to go into software companies or anything more than that?\n",
            " \n",
            "No sir I want to go into software companies that is aim\n",
            " \n",
            "okay. You don't want to go for any higher studies or entrepreneurship like.\n",
            " \n",
            "No sir entrepreneurship No  but the highest studies many of the companies Tcs also provide like conc simultaneously highest studies So that may also be a very good option.\n",
            " \n",
            "Okay for example you have got you have got the offer from Tcs Or at the same time Meanwhile you're getting the better offer than Tcs from another organization which is not a tier one organization but tier two organization but the packages just develop what we are offering then what you will do?\n",
            " \n",
            "a sir I compare both the companies in terms of the\n",
            " \n",
            "defiantly I’ve told the tcs is the tier one and you've got the offer from tier two it means the startup or midsize company with the package for example, we are giving you four lakh they are giving you eight lakh in that case what do you do?\n",
            " \n",
            " Sir I choose Tcs only because Tcs is like almost hundred and fifty years old company so it it has a very good job security. And as I cannot really trust a startup because they are new in the industry, and that's why there is there might be some trust issues so i\n",
            " \n",
            "At least salary does not matter for you ?\n",
            " \n",
            "Sir job security is more important than a salary\n",
            " \n",
            "if you will not perform well in the tcs also you can get the job insecurity in tcs also.\n",
            " \n",
            "Sir but I will perform good and I would like from my end there will be no complaints from Tcs.\n",
            " \n",
            "Okay yeah\n",
            " \n",
            "Gauri\n",
            " \n",
            "Good afternoon sir\n",
            " \n",
            "Good afternoon ah which domain you feel comfortable?\n",
            " \n",
            "Ah sir core subject subjects programming C++ , DBMS Yes sir.\n",
            " \n",
            "So, give me a concept to implement snake and ladder.\n",
            " \n",
            "implement Snakes and Ladders using any programming language?\n",
            " \n",
            "I want to know only concept not the implementation Okay I'm giving you the one minute\n",
            " \n",
            "Hmm  sir can I write something\n",
            " \n",
            " Yes yes but I need only logic right not the coding a code part.\n",
            " \n",
            "Ok sir\n",
            " \n",
            "Hua Gauri\n",
            " \n",
            "Yes sir thoda thoda ah sir we can\n",
            " \n",
            "Verbaly btao to bus when I can analyze that you are going in the right direction or not.\n",
            " \n",
            "Okay sir ah so ah firstly a we will the will like a this for example of how how many columns are there for example, I take disk of fifty the maximum we take a fifty and then now we take dice. so a variable in which we will take a random function with the help of random function, we can derive a number between one to six and for the first for the first move, if the numbers random number is six, then we can move like we can keep a counter of the player. so we can increase the counter with the numbers that comes in the dice. And then now we can predefine the snakes for example, if at if we reach five then the the counter should like increased by 10 blocks. so the counter will increase by ten block That is the ladder and this way we can like pre define the next.\n",
            " \n",
            "My next is the how you will how you will determine whether to you have to increment its dice value means you you own to use it's increasing the counter value in form of ladder yes sir or you have to decrement the counter value in form of snake. so how you will determine it.\n",
            " \n",
            "Sir with the help of functions. For example, if the dice value for if if the dice value or the that block value in which the counter is right now is five so I have assigned five already that five is a ladder, so then it will increase and for example if 12 is a snake then I've already defined that at 12 you need to decrement the value by for example FIFO or whatever. So I will predefined\n",
            " \n",
            "where you will predefined these values?\n",
            " \n",
            "So I can use a dictionary to like if I'm doing in Python then I can use it dictonary.\n",
            " \n",
            "If we are using C then and C++, Java there we doesn't have any dictionary\n",
            " \n",
            "Then sir we can ah we can use array of arrays and then like make dictionary with the help of arrays\n",
            " \n",
            "Okay yes can we switch or not there?\n",
            " \n",
            "switch yes hnn but so we can use but it is too long like we will have to write the code many times in switch\n",
            " \n",
            "why many times we can define a in switch global or anywhere then we can use it\n",
            " \n",
            "cause switch for snake and switch for a ladder two separate switches we can use yes sir that we can\n",
            " \n",
            "ahh so what do you mean by the encapsulation is Divyansh answer is correct.\n",
            " \n",
            "Sir partially it is correct it is used for data hiding but more data security. So aa in our class it is implemented using access modifiers like public protected private and there is a default access specifier as well. So ahh using these we can a define the scope of the variables or the functions like if it is public then it can be used all through and if it is protected then only the subclasses can use it and if private then only the current class can use it.\n",
            " \n",
            "What do you mean by storage classes ?\n",
            " \n",
            "A storage classes sir im no able to recall ive a\n",
            " \n",
            "Okay gauri all the best\n",
            " \n",
            "Thankyou so much\n",
            " \n",
            "Explore more and more Tcs technical interview questions right? Ok sir They are basically mainly from C and C++.\n",
            " \n",
            "Okay sir ill keep that in mind thankyou so much sir all the best thank you\n",
            " \n",
            "A from my side and rathor sir interview my remark for you definitely you are the good candidate that we have already observed many time ahh technical knowledge I have not checked out your head of department CAC will check it out but a you can easily correct the process.\n",
            " \n",
            "Okay thank you so much sir\n",
            " \n",
            "Or a when you are clear about your thought process then at least it should be justified when you are giving the interviews Yes sir sure it is very important ok sir if they feel that you want to come but you can not come then then there is a chances they can drop you. Either you are a good candidate or the best for example Google want to hire somebody or they find the candidate which is having the capabilities to get a caror package in a anom. But they have the doubt that no doubt is the best but they have the doubt that either he'll join or not. then might be they can drop so yes that kind of condition in the interview at least shoud not be so case.\n",
            " \n",
            "Okay I'll keep that in mind sir thank you\n",
            " \n",
            "Otherwise all set all right ok\n",
            " \n",
            "Thank you\n",
            " \n",
            "Thank you sir\n",
            " \n",
            "\n"
          ]
        }
      ]
    },
    {
      "cell_type": "code",
      "source": [
        "# command to run before code\n",
        "! pip install spacy\n",
        "! pip install nltk\n",
        "! python -m spacy download en_core_web_sm"
      ],
      "metadata": {
        "colab": {
          "base_uri": "https://localhost:8080/"
        },
        "id": "O_tA7KK3drSh",
        "outputId": "84790dfa-ea4f-4cf0-f7f8-245a42a108df"
      },
      "execution_count": 166,
      "outputs": [
        {
          "output_type": "stream",
          "name": "stdout",
          "text": [
            "Requirement already satisfied: spacy in /usr/local/lib/python3.7/dist-packages (2.2.4)\n",
            "Requirement already satisfied: blis<0.5.0,>=0.4.0 in /usr/local/lib/python3.7/dist-packages (from spacy) (0.4.1)\n",
            "Requirement already satisfied: cymem<2.1.0,>=2.0.2 in /usr/local/lib/python3.7/dist-packages (from spacy) (2.0.6)\n",
            "Requirement already satisfied: thinc==7.4.0 in /usr/local/lib/python3.7/dist-packages (from spacy) (7.4.0)\n",
            "Requirement already satisfied: preshed<3.1.0,>=3.0.2 in /usr/local/lib/python3.7/dist-packages (from spacy) (3.0.6)\n",
            "Requirement already satisfied: wasabi<1.1.0,>=0.4.0 in /usr/local/lib/python3.7/dist-packages (from spacy) (0.9.1)\n",
            "Requirement already satisfied: tqdm<5.0.0,>=4.38.0 in /usr/local/lib/python3.7/dist-packages (from spacy) (4.64.0)\n",
            "Requirement already satisfied: srsly<1.1.0,>=1.0.2 in /usr/local/lib/python3.7/dist-packages (from spacy) (1.0.5)\n",
            "Requirement already satisfied: setuptools in /usr/local/lib/python3.7/dist-packages (from spacy) (57.4.0)\n",
            "Requirement already satisfied: numpy>=1.15.0 in /usr/local/lib/python3.7/dist-packages (from spacy) (1.21.5)\n",
            "Requirement already satisfied: catalogue<1.1.0,>=0.0.7 in /usr/local/lib/python3.7/dist-packages (from spacy) (1.0.0)\n",
            "Requirement already satisfied: plac<1.2.0,>=0.9.6 in /usr/local/lib/python3.7/dist-packages (from spacy) (1.1.3)\n",
            "Requirement already satisfied: requests<3.0.0,>=2.13.0 in /usr/local/lib/python3.7/dist-packages (from spacy) (2.23.0)\n",
            "Requirement already satisfied: murmurhash<1.1.0,>=0.28.0 in /usr/local/lib/python3.7/dist-packages (from spacy) (1.0.6)\n",
            "Requirement already satisfied: importlib-metadata>=0.20 in /usr/local/lib/python3.7/dist-packages (from catalogue<1.1.0,>=0.0.7->spacy) (4.11.3)\n",
            "Requirement already satisfied: zipp>=0.5 in /usr/local/lib/python3.7/dist-packages (from importlib-metadata>=0.20->catalogue<1.1.0,>=0.0.7->spacy) (3.8.0)\n",
            "Requirement already satisfied: typing-extensions>=3.6.4 in /usr/local/lib/python3.7/dist-packages (from importlib-metadata>=0.20->catalogue<1.1.0,>=0.0.7->spacy) (4.1.1)\n",
            "Requirement already satisfied: urllib3!=1.25.0,!=1.25.1,<1.26,>=1.21.1 in /usr/local/lib/python3.7/dist-packages (from requests<3.0.0,>=2.13.0->spacy) (1.24.3)\n",
            "Requirement already satisfied: chardet<4,>=3.0.2 in /usr/local/lib/python3.7/dist-packages (from requests<3.0.0,>=2.13.0->spacy) (3.0.4)\n",
            "Requirement already satisfied: certifi>=2017.4.17 in /usr/local/lib/python3.7/dist-packages (from requests<3.0.0,>=2.13.0->spacy) (2021.10.8)\n",
            "Requirement already satisfied: idna<3,>=2.5 in /usr/local/lib/python3.7/dist-packages (from requests<3.0.0,>=2.13.0->spacy) (2.10)\n",
            "Requirement already satisfied: nltk in /usr/local/lib/python3.7/dist-packages (3.2.5)\n",
            "Requirement already satisfied: six in /usr/local/lib/python3.7/dist-packages (from nltk) (1.15.0)\n",
            "Collecting en_core_web_sm==2.2.5\n",
            "  Downloading https://github.com/explosion/spacy-models/releases/download/en_core_web_sm-2.2.5/en_core_web_sm-2.2.5.tar.gz (12.0 MB)\n",
            "\u001b[K     |████████████████████████████████| 12.0 MB 5.3 MB/s \n",
            "\u001b[?25hRequirement already satisfied: spacy>=2.2.2 in /usr/local/lib/python3.7/dist-packages (from en_core_web_sm==2.2.5) (2.2.4)\n",
            "Requirement already satisfied: thinc==7.4.0 in /usr/local/lib/python3.7/dist-packages (from spacy>=2.2.2->en_core_web_sm==2.2.5) (7.4.0)\n",
            "Requirement already satisfied: cymem<2.1.0,>=2.0.2 in /usr/local/lib/python3.7/dist-packages (from spacy>=2.2.2->en_core_web_sm==2.2.5) (2.0.6)\n",
            "Requirement already satisfied: wasabi<1.1.0,>=0.4.0 in /usr/local/lib/python3.7/dist-packages (from spacy>=2.2.2->en_core_web_sm==2.2.5) (0.9.1)\n",
            "Requirement already satisfied: plac<1.2.0,>=0.9.6 in /usr/local/lib/python3.7/dist-packages (from spacy>=2.2.2->en_core_web_sm==2.2.5) (1.1.3)\n",
            "Requirement already satisfied: tqdm<5.0.0,>=4.38.0 in /usr/local/lib/python3.7/dist-packages (from spacy>=2.2.2->en_core_web_sm==2.2.5) (4.64.0)\n",
            "Requirement already satisfied: preshed<3.1.0,>=3.0.2 in /usr/local/lib/python3.7/dist-packages (from spacy>=2.2.2->en_core_web_sm==2.2.5) (3.0.6)\n",
            "Requirement already satisfied: catalogue<1.1.0,>=0.0.7 in /usr/local/lib/python3.7/dist-packages (from spacy>=2.2.2->en_core_web_sm==2.2.5) (1.0.0)\n",
            "Requirement already satisfied: requests<3.0.0,>=2.13.0 in /usr/local/lib/python3.7/dist-packages (from spacy>=2.2.2->en_core_web_sm==2.2.5) (2.23.0)\n",
            "Requirement already satisfied: srsly<1.1.0,>=1.0.2 in /usr/local/lib/python3.7/dist-packages (from spacy>=2.2.2->en_core_web_sm==2.2.5) (1.0.5)\n",
            "Requirement already satisfied: numpy>=1.15.0 in /usr/local/lib/python3.7/dist-packages (from spacy>=2.2.2->en_core_web_sm==2.2.5) (1.21.5)\n",
            "Requirement already satisfied: murmurhash<1.1.0,>=0.28.0 in /usr/local/lib/python3.7/dist-packages (from spacy>=2.2.2->en_core_web_sm==2.2.5) (1.0.6)\n",
            "Requirement already satisfied: blis<0.5.0,>=0.4.0 in /usr/local/lib/python3.7/dist-packages (from spacy>=2.2.2->en_core_web_sm==2.2.5) (0.4.1)\n",
            "Requirement already satisfied: setuptools in /usr/local/lib/python3.7/dist-packages (from spacy>=2.2.2->en_core_web_sm==2.2.5) (57.4.0)\n",
            "Requirement already satisfied: importlib-metadata>=0.20 in /usr/local/lib/python3.7/dist-packages (from catalogue<1.1.0,>=0.0.7->spacy>=2.2.2->en_core_web_sm==2.2.5) (4.11.3)\n",
            "Requirement already satisfied: typing-extensions>=3.6.4 in /usr/local/lib/python3.7/dist-packages (from importlib-metadata>=0.20->catalogue<1.1.0,>=0.0.7->spacy>=2.2.2->en_core_web_sm==2.2.5) (4.1.1)\n",
            "Requirement already satisfied: zipp>=0.5 in /usr/local/lib/python3.7/dist-packages (from importlib-metadata>=0.20->catalogue<1.1.0,>=0.0.7->spacy>=2.2.2->en_core_web_sm==2.2.5) (3.8.0)\n",
            "Requirement already satisfied: chardet<4,>=3.0.2 in /usr/local/lib/python3.7/dist-packages (from requests<3.0.0,>=2.13.0->spacy>=2.2.2->en_core_web_sm==2.2.5) (3.0.4)\n",
            "Requirement already satisfied: urllib3!=1.25.0,!=1.25.1,<1.26,>=1.21.1 in /usr/local/lib/python3.7/dist-packages (from requests<3.0.0,>=2.13.0->spacy>=2.2.2->en_core_web_sm==2.2.5) (1.24.3)\n",
            "Requirement already satisfied: certifi>=2017.4.17 in /usr/local/lib/python3.7/dist-packages (from requests<3.0.0,>=2.13.0->spacy>=2.2.2->en_core_web_sm==2.2.5) (2021.10.8)\n",
            "Requirement already satisfied: idna<3,>=2.5 in /usr/local/lib/python3.7/dist-packages (from requests<3.0.0,>=2.13.0->spacy>=2.2.2->en_core_web_sm==2.2.5) (2.10)\n",
            "\u001b[38;5;2m✔ Download and installation successful\u001b[0m\n",
            "You can now load the model via spacy.load('en_core_web_sm')\n"
          ]
        }
      ]
    },
    {
      "cell_type": "code",
      "source": [
        "sentences_initial=text.split('\\n \\n')"
      ],
      "metadata": {
        "id": "jycoEnHPgLC5"
      },
      "execution_count": 167,
      "outputs": []
    },
    {
      "cell_type": "code",
      "source": [
        "sentences =[]"
      ],
      "metadata": {
        "id": "e6mwSvugySxb"
      },
      "execution_count": 168,
      "outputs": []
    },
    {
      "cell_type": "code",
      "source": [
        "for var in sentences_initial:\n",
        "  split_s = var.split(\".\")\n",
        "  sentences.extend(split_s)"
      ],
      "metadata": {
        "id": "uvOcgj_2yGK5"
      },
      "execution_count": 169,
      "outputs": []
    },
    {
      "cell_type": "code",
      "source": [
        "sentences=list(set(sentences))"
      ],
      "metadata": {
        "id": "RvE1DhwlzcMz"
      },
      "execution_count": 170,
      "outputs": []
    },
    {
      "cell_type": "code",
      "source": [
        "sentences.remove('')\n",
        "sentences2 = sentences"
      ],
      "metadata": {
        "id": "3zpbzNk4kfsb"
      },
      "execution_count": 171,
      "outputs": []
    },
    {
      "cell_type": "code",
      "source": [
        "sentences"
      ],
      "metadata": {
        "colab": {
          "base_uri": "https://localhost:8080/"
        },
        "id": "ka0ioonD1Jkw",
        "outputId": "cbfc05b1-be4c-4aa9-ddc0-18d79e80d480"
      },
      "execution_count": 172,
      "outputs": [
        {
          "output_type": "execute_result",
          "data": {
            "text/plain": [
              "['cause switch for snake and switch for a ladder two separate switches we can use yes sir that we can',\n",
              " ' So that is the second point',\n",
              " ' Either you are a good candidate or the best for example Google want to hire somebody or they find the candidate which is having the capabilities to get a caror package in a anom',\n",
              " ' I have talked to many of my friends who are in Tcs and they say that Tcs gives a very good work life balance',\n",
              " \" And currently I am one of the cultural heads of our students club, So I've I have also participated in several donation camps several donation camps as I am a  a member of the Rotary Club Udaipur, I consider myself as a very focused person, I’ve  and I always work towards my goals and in a very efficient manner\",\n",
              " 'Okay',\n",
              " 'Okay yes can we switch or not there?',\n",
              " 'Okay so how have you prepared for TCS interview now?',\n",
              " 'Okay Tell us which other campus interviews Have you appeared for and what has been the results?',\n",
              " \"So I can use a dictionary to like if I'm doing in Python then I can use it dictonary\",\n",
              " ' computer sciences is omnipresent that is it is present in every field and hence I have invested these last 3',\n",
              " 'Verbaly btao to bus when I can analyze that you are going in the right direction or not',\n",
              " ' So it gives me a sense of job security to some extent',\n",
              " ' Yes yes but I need only logic right not the coding a code part',\n",
              " ' My name is Gauri shirmali',\n",
              " '4 Cgp ahh percentage in 12 standard',\n",
              " 'Sure firstly sir ahh tcs is has a brand name, it is known it is a multinational company and it has a very good brand name and thus it would give me a good start for my career',\n",
              " \" And I want to a learn as much ah like as much languages and as much skills as I can and I also want to achieve great success so that I'm satisfied with what I've learned\",\n",
              " 'if you will not perform well in the tcs also you can get the job insecurity in tcs also',\n",
              " ' And lastly there as Tcs is has been in the industry for almost hundred and fifty years',\n",
              " 'So, give me a concept to implement snake and ladder',\n",
              " 'Okay ahhh umm  Gauri tell me what are your future plans?',\n",
              " 'Okay ahh thank you for allowing me to introduce myself',\n",
              " 'Sir tcs changes with technologies according to the needs of the people of the or so there is not a there is no fixed technology that they use they use according to the clients which is very well',\n",
              " 'Otherwise all set all right ok',\n",
              " 'So how does TCS fit into your requirement?',\n",
              " 'Sir but I will perform good and I would like from my end there will be no complaints from Tcs',\n",
              " 'Or a when you are clear about your thought process then at least it should be justified when you are giving the interviews Yes sir sure it is very important ok sir if they feel that you want to come but you can not come then then there is a chances they can drop you',\n",
              " ' Secondly, it has a work life balance',\n",
              " 'Explore more and more Tcs technical interview questions right? Ok sir They are basically mainly from C and C++',\n",
              " 'implement Snakes and Ladders using any programming language?',\n",
              " 'So I have interviewed for darnet, which is an depor only and I got selected for it',\n",
              " 'where you will predefined these values?',\n",
              " 'Yes sir',\n",
              " \"Sir I have an enhanced my technical skills I have been preparing for the core subjects, and I've been doing coding almost every day So I think that I prepared quite well For Tcs\",\n",
              " 'Okay, sir, thank you any more suggestions for me?',\n",
              " \"If we are using C then and C++, Java there we doesn't have any dictionary\",\n",
              " ' Fourthly, as Tcs is a multinational company, I would like to I would have the chance to even uhh go abroad and a meet a people of different nationalities',\n",
              " ' And currently an engineering my aggregate score is 77 percentage',\n",
              " ' And I’ve  also used this skills to build several projects, which include user management project and attendance management project',\n",
              " 'Sir maybe it is job satisfaction because they enter a company without a a seeing the background of the company and then they later find out that the company was not suitable for them',\n",
              " 'Hua Gauri',\n",
              " 'Okay sir ah so ah firstly a we will the will like a this for example of how how many columns are there for example, I take disk of fifty the maximum we take a fifty and then now we take dice',\n",
              " 'Thankyou so much',\n",
              " 'a sir I compare both the companies in terms of the',\n",
              " \"Yeah, as per your own analysis, you said you're a good team player and what requirements you said for a good job in case you have those qualities I'm sure you will be able to fit into\",\n",
              " \" You don't want to go for any higher studies or entrepreneurship like\",\n",
              " 'ahh so what do you mean by the encapsulation is Divyansh answer is correct',\n",
              " 'Okay yeah',\n",
              " 'So firstly the one should look if there is a lot to learn from the company, I mean, there should be a very steep like growing curve in the company',\n",
              " 'Sir will I be able to like fit in the company? I mean what do you think?',\n",
              " 'Ok sir',\n",
              " 'Will you be able to fit into the company?',\n",
              " 'All the best right',\n",
              " \" I'm doing computer science engineering from Geetanjali Institute of technical studies\",\n",
              " 'Sir I want to join a software company and a work for it',\n",
              " 'Then sir we can ah we can use array of arrays and then like make dictionary with the help of arrays',\n",
              " 'Sir job security is more important than a salary',\n",
              " ' So aa in our class it is implemented using access modifiers like public protected private and there is a default access specifier as well',\n",
              " 'Okay thank you so much sir',\n",
              " ' so how you will determine it',\n",
              " \" I've also participated in smart India hackathons of which ahh in one we also got to the finals\",\n",
              " 'At least salary does not matter for you ?',\n",
              " 'No sir entrepreneurship No  but the highest studies many of the companies Tcs also provide like conc simultaneously highest studies So that may also be a very good option',\n",
              " 'Okay ah what do you think are the reasons for youngsters switching over jobs?',\n",
              " 'Ah sir core subject subjects programming C++ , DBMS Yes sir',\n",
              " \"Okay Have you analyzed Why you didn't get selected for gateway?\",\n",
              " 'Okay technically what gives you job satisfaction?',\n",
              " 'No sir I want to go into software companies that is aim',\n",
              " ' I also like to read write and paint have been the student editor of our colleges newsletter bits and bytes',\n",
              " 'Sir with the help of functions',\n",
              " ' I am a team player and very optimistic in tough times And lastly I would like to say that why not start the journey of my success by the success of joining TCS Thank you so much',\n",
              " ' So I will predefined',\n",
              " 'Good afternoon',\n",
              " '2 c GPA in 10, standard 73',\n",
              " 'Sir in gateway I might have not answered the technical questions very well as compared to the other candidates',\n",
              " ' I am from Udaipur Rajasthan',\n",
              " \" That's for you, what are the three important things ah that ah one should consider before joining any organization as a fresher?\",\n",
              " 'Okay sure anything that you want to ask?',\n",
              " 'Thank you so much sir',\n",
              " \"Okay for example you have got you have got the offer from Tcs Or at the same time Meanwhile you're getting the better offer than Tcs from another organization which is not a tier one organization but tier two organization but the packages just develop what we are offering then what you will do?\",\n",
              " ' so the counter will increase by ten block That is the ladder and this way we can like pre define the next',\n",
              " ' I also interviewed for gateway industries',\n",
              " ' So there is a lot to learn from them',\n",
              " \"I'm sorry sir but I'm not aware of the clients\",\n",
              " 'which are the major clients of TCS? Can you name three or four of them?',\n",
              " 'A storage classes sir im no able to recall ive a',\n",
              " ' so we can increase the counter with the numbers that comes in the dice',\n",
              " ' Sir I choose Tcs only because Tcs is like almost hundred and fifty years old company so it it has a very good job security',\n",
              " 'Gauri',\n",
              " 'why many times we can define a in switch global or anywhere then we can use it',\n",
              " ' So ahh using these we can a define the scope of the variables or the functions like if it is public then it can be used all through and if it is protected then only the subclasses can use it and if private then only the current class can use it',\n",
              " 'All prepare',\n",
              " 'Okay sir ill keep that in mind thankyou so much sir all the best thank you',\n",
              " 'Okay okay Gauri nice talking to you , thankyou sir , and  I request kernel rathor sir to take next part of interview Right',\n",
              " ' So these all are my technical skills',\n",
              " 'What do you mean by storage classes ?',\n",
              " \" And as I cannot really trust a startup because they are new in the industry, and that's why there is there might be some trust issues so i\",\n",
              " \"I want to know only concept not the implementation Okay I'm giving you the one minute\",\n",
              " \" I was not selected in the interview I got to the interview part but was not selected So that's it\",\n",
              " ' Third point is the colleagues there hardraw very futuristic in their skills',\n",
              " 'sir like I said there is a work life balance and it a it it promotes like gender equality ,there is no like discrimination on the basis of that',\n",
              " 'Good afternoon ah which domain you feel comfortable?',\n",
              " 'Thank you sir',\n",
              " 'Sir partially it is correct it is used for data hiding but more data security',\n",
              " 'Yes Gauri tell me tell me something about you',\n",
              " 'Okay what are the ethical values Tcs have?',\n",
              " 'Good afternoon sir',\n",
              " 'What is your basically the aim you want to go into software companies or anything more than that?',\n",
              " \"defiantly I’ve told the tcs is the tier one and you've got the offer from tier two it means the startup or midsize company with the package for example, we are giving you four lakh they are giving you eight lakh in that case what do you do?\",\n",
              " 'What are your future plans ?',\n",
              " \"My next is the how you will how you will determine whether to you have to increment its dice value means you you own to use it's increasing the counter value in form of ladder yes sir or you have to decrement the counter value in form of snake\",\n",
              " 'No nothing more adventure will finally give his remarks',\n",
              " ' then might be they can drop so yes that kind of condition in the interview at least shoud not be so case',\n",
              " 'Okay ahh What are the five specific point about Tcs which makes Tcs different from the other IT MNCs?',\n",
              " 'Thankyou so much sir',\n",
              " ' Ahh these are my technical skills, coming to my extracurricular activities I love to dance umm particularly semi classical dance',\n",
              " \" And it so it's very good ethics overall\",\n",
              " 'switch yes hnn but so we can use but it is too long like we will have to write the code many times in switch',\n",
              " \" For example, if the dice value for if if the dice value or the that block value in which the counter is right now is five so I have assigned five already that five is a ladder, so then it will increase and for example if 12 is a snake then I've already defined that at 12 you need to decrement the value by for example FIFO or whatever\",\n",
              " '5 almost years and a developing my software skills My technical skills include programming in Python, Java, C, c++, databases I am also familiar with web development, Kubernetes, Docker, Ansible, et cetera',\n",
              " ' Secondly, they should be like the colleagues and everything should be very frank so that they help you in every way and thirdly  for me there should be a brand name so that there is a satisfaction that yes I have achieved a level and now I can go to the next level',\n",
              " ' And then now we can predefine the snakes for example, if at if we reach five then the the counter should like increased by 10 blocks',\n",
              " 'Sir my future plans sir if I join TCS or otherwise',\n",
              " ' so a variable in which we will take a random function with the help of random function, we can derive a number between one to six and for the first for the first move, if the numbers random number is six, then we can move like we can keep a counter of the player',\n",
              " ' I secured 9',\n",
              " 'Yes sir thoda thoda ah sir we can',\n",
              " \"Okay I'll keep that in mind sir thank you\",\n",
              " 'A from my side and rathor sir interview my remark for you definitely you are the good candidate that we have already observed many time ahh technical knowledge I have not checked out your head of department CAC will check it out but a you can easily correct the process',\n",
              " \" I've only given these interviews\",\n",
              " 'Sir technically the latest I want to go with latest technical skills, like not obsolete technologies, but the latest technologies',\n",
              " 'Hmm  sir can I write something',\n",
              " 'Thank you',\n",
              " 'Okay gauri all the best',\n",
              " \" But they have the doubt that no doubt is the best but they have the doubt that either he'll join or not\",\n",
              " 'okay']"
            ]
          },
          "metadata": {},
          "execution_count": 172
        }
      ]
    },
    {
      "cell_type": "code",
      "source": [
        "# imports and load spacy english language package\n",
        "import spacy\n",
        "from spacy import displacy\n",
        "from spacy import tokenizer\n",
        "nlp = spacy.load('en_core_web_sm')"
      ],
      "metadata": {
        "id": "qRkeXMyZf5Mx"
      },
      "execution_count": 173,
      "outputs": []
    },
    {
      "cell_type": "code",
      "source": [
        "final_list =[]\n",
        "ner_tokens = []\n",
        "#Load the text and process it\n",
        "for line in sentences:\n",
        "   doc = nlp(str(line))\n",
        "   sentences = list(doc.sents)\n",
        "   # print entities\n",
        "   ents = [(e.text, e.start_char, e.end_char, e.label_) for e in doc.ents]\n",
        "   #print(ents)\n",
        "   for i in range(len(ents)):\n",
        "        ner_tokens.append(ents[i][0])\n",
        "   # now we use displaycy function on doc\n"
      ],
      "metadata": {
        "id": "nJZzazl1gC16"
      },
      "execution_count": 174,
      "outputs": []
    },
    {
      "cell_type": "code",
      "source": [
        "print(ner_tokens)"
      ],
      "metadata": {
        "colab": {
          "base_uri": "https://localhost:8080/"
        },
        "id": "3-E5ZJ8v3azi",
        "outputId": "01a48686-7cba-45b5-8a57-744e6b6fd1c5"
      },
      "execution_count": 175,
      "outputs": [
        {
          "output_type": "stream",
          "name": "stdout",
          "text": [
            "['two', 'second', 'Google', 'one', 'the Rotary Club Udaipur', 'Tell', 'Python', 'Verbaly', 'Gauri', '4', '12', 'Tcs', 'almost hundred and fifty years', 'Gauri', 'Secondly', 'C++', 'Snakes', 'almost every day', 'C++', 'Java', 'Fourthly', '77', 'Hua Gauri', 'fifty', 'fifty', 'Divyansh', 'Geetanjali Institute of technical', 'India', 'C++', 'DBMS', 'afternoon', '2', 'GPA', '10', '73', 'Udaipur Rajasthan', 'three', 'one', 'two', 'ten', 'TCS', 'three', 'four', 'almost hundred and fifty years old', 'Gauri', 'Gauri', 'one minute', 'Third', 'afternoon', 'Gauri', 'afternoon', 'two', 'four', 'eight', 'five', 'hnn', 'five', 'five', 'five', '12', '12', 'FIFO', '5 almost years', 'Python', 'Java, C', 'c++', 'Kubernetes', 'Docker', 'Secondly', 'thirdly', 'five', '10', 'between one to six', 'first', 'first', 'six', '9', 'CAC']\n"
          ]
        }
      ]
    },
    {
      "cell_type": "code",
      "source": [
        "ner_tokens_list = list(set(ner_tokens))\n",
        "print(ner_tokens_list)"
      ],
      "metadata": {
        "colab": {
          "base_uri": "https://localhost:8080/"
        },
        "id": "UjxP9fm-itVi",
        "outputId": "53ad4d11-c40e-41dc-ad7d-0dbd70a8e1fd"
      },
      "execution_count": 176,
      "outputs": [
        {
          "output_type": "stream",
          "name": "stdout",
          "text": [
            "['Google', 'Secondly', 'Java, C', 'Kubernetes', '10', 'c++', 'second', 'Docker', 'afternoon', 'ten', 'Fourthly', 'eight', 'four', 'Hua Gauri', 'Java', 'Tcs', 'India', 'Snakes', 'one minute', 'almost hundred and fifty years', 'Python', 'Udaipur Rajasthan', 'CAC', 'Tell', 'Third', 'Gauri', 'GPA', 'almost hundred and fifty years old', '2', 'almost every day', '73', 'one', 'TCS', 'hnn', '5 almost years', 'Verbaly', 'five', 'DBMS', 'FIFO', '9', 'six', '12', '4', 'two', 'fifty', 'three', 'thirdly', 'between one to six', 'first', 'the Rotary Club Udaipur', 'Divyansh', '77', 'C++', 'Geetanjali Institute of technical']\n"
          ]
        }
      ]
    },
    {
      "cell_type": "code",
      "source": [
        "final_sentences=set()\n",
        "for s in sentences2:\n",
        "  for x in ner_tokens_list:\n",
        "     if x in str(s):\n",
        "       final_sentences.add(s)\n"
      ],
      "metadata": {
        "id": "okAGJvIC4YMb"
      },
      "execution_count": 177,
      "outputs": []
    },
    {
      "cell_type": "code",
      "source": [
        "final_sentences"
      ],
      "metadata": {
        "colab": {
          "base_uri": "https://localhost:8080/"
        },
        "id": "sFy1PP0_5ahD",
        "outputId": "0d2b94d3-da5d-4c78-d05f-7b713a414e2a"
      },
      "execution_count": 178,
      "outputs": [
        {
          "output_type": "execute_result",
          "data": {
            "text/plain": [
              "{' And I’ve  also used this skills to build several projects, which include user management project and attendance management project',\n",
              " \" And currently I am one of the cultural heads of our students club, So I've I have also participated in several donation camps several donation camps as I am a  a member of the Rotary Club Udaipur, I consider myself as a very focused person, I’ve  and I always work towards my goals and in a very efficient manner\",\n",
              " ' And currently an engineering my aggregate score is 77 percentage',\n",
              " ' And lastly there as Tcs is has been in the industry for almost hundred and fifty years',\n",
              " ' And then now we can predefine the snakes for example, if at if we reach five then the the counter should like increased by 10 blocks',\n",
              " ' Either you are a good candidate or the best for example Google want to hire somebody or they find the candidate which is having the capabilities to get a caror package in a anom',\n",
              " \" For example, if the dice value for if if the dice value or the that block value in which the counter is right now is five so I have assigned five already that five is a ladder, so then it will increase and for example if 12 is a snake then I've already defined that at 12 you need to decrement the value by for example FIFO or whatever\",\n",
              " ' Fourthly, as Tcs is a multinational company, I would like to I would have the chance to even uhh go abroad and a meet a people of different nationalities',\n",
              " ' I am a team player and very optimistic in tough times And lastly I would like to say that why not start the journey of my success by the success of joining TCS Thank you so much',\n",
              " ' I am from Udaipur Rajasthan',\n",
              " ' I have talked to many of my friends who are in Tcs and they say that Tcs gives a very good work life balance',\n",
              " ' I secured 9',\n",
              " \" I'm doing computer science engineering from Geetanjali Institute of technical studies\",\n",
              " \" I've also participated in smart India hackathons of which ahh in one we also got to the finals\",\n",
              " ' My name is Gauri shirmali',\n",
              " ' Secondly, it has a work life balance',\n",
              " ' Secondly, they should be like the colleagues and everything should be very frank so that they help you in every way and thirdly  for me there should be a brand name so that there is a satisfaction that yes I have achieved a level and now I can go to the next level',\n",
              " ' Sir I choose Tcs only because Tcs is like almost hundred and fifty years old company so it it has a very good job security',\n",
              " ' So it gives me a sense of job security to some extent',\n",
              " ' So that is the second point',\n",
              " \" That's for you, what are the three important things ah that ah one should consider before joining any organization as a fresher?\",\n",
              " ' Third point is the colleagues there hardraw very futuristic in their skills',\n",
              " ' so a variable in which we will take a random function with the help of random function, we can derive a number between one to six and for the first for the first move, if the numbers random number is six, then we can move like we can keep a counter of the player',\n",
              " ' so the counter will increase by ten block That is the ladder and this way we can like pre define the next',\n",
              " '2 c GPA in 10, standard 73',\n",
              " '4 Cgp ahh percentage in 12 standard',\n",
              " '5 almost years and a developing my software skills My technical skills include programming in Python, Java, C, c++, databases I am also familiar with web development, Kubernetes, Docker, Ansible, et cetera',\n",
              " 'A from my side and rathor sir interview my remark for you definitely you are the good candidate that we have already observed many time ahh technical knowledge I have not checked out your head of department CAC will check it out but a you can easily correct the process',\n",
              " 'Ah sir core subject subjects programming C++ , DBMS Yes sir',\n",
              " 'Explore more and more Tcs technical interview questions right? Ok sir They are basically mainly from C and C++',\n",
              " 'Gauri',\n",
              " 'Good afternoon',\n",
              " 'Good afternoon ah which domain you feel comfortable?',\n",
              " 'Good afternoon sir',\n",
              " 'Hua Gauri',\n",
              " \"I want to know only concept not the implementation Okay I'm giving you the one minute\",\n",
              " \"If we are using C then and C++, Java there we doesn't have any dictionary\",\n",
              " 'No sir entrepreneurship No  but the highest studies many of the companies Tcs also provide like conc simultaneously highest studies So that may also be a very good option',\n",
              " 'Okay Tell us which other campus interviews Have you appeared for and what has been the results?',\n",
              " 'Okay ahh What are the five specific point about Tcs which makes Tcs different from the other IT MNCs?',\n",
              " 'Okay ahhh umm  Gauri tell me what are your future plans?',\n",
              " \"Okay for example you have got you have got the offer from Tcs Or at the same time Meanwhile you're getting the better offer than Tcs from another organization which is not a tier one organization but tier two organization but the packages just develop what we are offering then what you will do?\",\n",
              " 'Okay okay Gauri nice talking to you , thankyou sir , and  I request kernel rathor sir to take next part of interview Right',\n",
              " 'Okay sir ah so ah firstly a we will the will like a this for example of how how many columns are there for example, I take disk of fifty the maximum we take a fifty and then now we take dice',\n",
              " 'Okay so how have you prepared for TCS interview now?',\n",
              " 'Okay what are the ethical values Tcs have?',\n",
              " \"Sir I have an enhanced my technical skills I have been preparing for the core subjects, and I've been doing coding almost every day So I think that I prepared quite well For Tcs\",\n",
              " 'Sir but I will perform good and I would like from my end there will be no complaints from Tcs',\n",
              " 'Sir my future plans sir if I join TCS or otherwise',\n",
              " \"So I can use a dictionary to like if I'm doing in Python then I can use it dictonary\",\n",
              " 'So firstly the one should look if there is a lot to learn from the company, I mean, there should be a very steep like growing curve in the company',\n",
              " 'So how does TCS fit into your requirement?',\n",
              " 'Sure firstly sir ahh tcs is has a brand name, it is known it is a multinational company and it has a very good brand name and thus it would give me a good start for my career',\n",
              " 'Verbaly btao to bus when I can analyze that you are going in the right direction or not',\n",
              " 'Yes Gauri tell me tell me something about you',\n",
              " 'ahh so what do you mean by the encapsulation is Divyansh answer is correct',\n",
              " 'cause switch for snake and switch for a ladder two separate switches we can use yes sir that we can',\n",
              " \"defiantly I’ve told the tcs is the tier one and you've got the offer from tier two it means the startup or midsize company with the package for example, we are giving you four lakh they are giving you eight lakh in that case what do you do?\",\n",
              " 'implement Snakes and Ladders using any programming language?',\n",
              " 'switch yes hnn but so we can use but it is too long like we will have to write the code many times in switch',\n",
              " 'which are the major clients of TCS? Can you name three or four of them?'}"
            ]
          },
          "metadata": {},
          "execution_count": 178
        }
      ]
    },
    {
      "cell_type": "code",
      "source": [
        "with open(\"Insights_extracted.txt\", \"a\") as file_object:\n",
        "  for i in final_sentences:\n",
        "    file_object.write(str(i))\n",
        "    file_object.write('\\n')"
      ],
      "metadata": {
        "id": "KTOH_G7r8-UN"
      },
      "execution_count": 179,
      "outputs": []
    },
    {
      "cell_type": "code",
      "source": [
        ""
      ],
      "metadata": {
        "id": "UnEkxcgJ7FWJ"
      },
      "execution_count": 179,
      "outputs": []
    }
  ]
}